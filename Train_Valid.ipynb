{
 "cells": [
  {
   "cell_type": "markdown",
   "id": "bea2e7c8-aca6-4ca4-bb67-bdb4fd717462",
   "metadata": {},
   "source": [
    "## IMPORTING THE LIBRARIES "
   ]
  },
  {
   "cell_type": "code",
   "execution_count": 57,
   "id": "ff05d2a7-e25e-46a1-af63-680a499e65e5",
   "metadata": {},
   "outputs": [],
   "source": [
    "import tensorflow as tf\n",
    "import matplotlib.pyplot as plt\n",
    "import pandas as pd\n",
    "import seaborn as sns"
   ]
  },
  {
   "cell_type": "markdown",
   "id": "7fb98e44-6a6e-4b44-8e7d-acaac32bf0b0",
   "metadata": {},
   "source": [
    "### To build the Neural Network, we first need to do some impage preprocessing"
   ]
  },
  {
   "cell_type": "markdown",
   "id": "5ff56add-2d83-444e-90a4-431a78193668",
   "metadata": {},
   "source": [
    "## Data Preprocessing "
   ]
  },
  {
   "cell_type": "markdown",
   "id": "686e3a2f-1cf2-4c07-abf8-3e0dd4a5bcd3",
   "metadata": {},
   "source": [
    "### Training Image pre-processing "
   ]
  },
  {
   "cell_type": "code",
   "execution_count": 58,
   "id": "05896625-1b56-42f0-8eab-70cae3c213e4",
   "metadata": {},
   "outputs": [
    {
     "name": "stdout",
     "output_type": "stream",
     "text": [
      "Found 70295 files belonging to 38 classes.\n"
     ]
    }
   ],
   "source": [
    "training_set = tf.keras.utils.image_dataset_from_directory(\n",
    "    'train',\n",
    "    labels=\"inferred\", #means go inside my train folder and whatever is my directory, select it as my label \n",
    "    label_mode=\"categorical\", #Since the label is not in the int but text\n",
    "    class_names=None,\n",
    "    color_mode=\"rgb\",\n",
    "    batch_size=32,\n",
    "    image_size=(128, 128),\n",
    "    shuffle=True, #at the time of training shuffle the entire thing - this will reduce the biasness of \n",
    "    seed=None,\n",
    "    validation_split=None,\n",
    "    subset=None,\n",
    "    interpolation=\"bilinear\",\n",
    "    follow_links=False,\n",
    "    crop_to_aspect_ratio=False,\n",
    ")"
   ]
  },
  {
   "cell_type": "markdown",
   "id": "447f7538-a18c-4915-a3e0-e9eebb1b3621",
   "metadata": {},
   "source": [
    "### Validation Pre-processing"
   ]
  },
  {
   "cell_type": "code",
   "execution_count": 59,
   "id": "b63f96c1-b970-47a6-a559-d4c26af32b4f",
   "metadata": {},
   "outputs": [
    {
     "name": "stdout",
     "output_type": "stream",
     "text": [
      "Found 17572 files belonging to 38 classes.\n"
     ]
    }
   ],
   "source": [
    "validation_set = tf.keras.utils.image_dataset_from_directory(\n",
    "    'valid',\n",
    "    labels=\"inferred\", #means go inside my train folder and whatever is my directory, select it as my label \n",
    "    label_mode=\"categorical\", #Since the label is not in the int but text\n",
    "    class_names=None,\n",
    "    color_mode=\"rgb\",\n",
    "    batch_size=32, #*\n",
    "    image_size=(128, 128), #*\n",
    "    #each time a batch of 32 images with 128*128 size dimension is passed \n",
    "    shuffle=True, #at the time of training shuffle the entire thing - this will reduce the biasness of \n",
    "    seed=None,\n",
    "    validation_split=None,\n",
    "    subset=None,\n",
    "    interpolation=\"bilinear\",\n",
    "    follow_links=False,\n",
    "    crop_to_aspect_ratio=False,\n",
    ")"
   ]
  },
  {
   "cell_type": "code",
   "execution_count": 60,
   "id": "eab9a00a-c98c-48bf-bf40-007cafc0461c",
   "metadata": {},
   "outputs": [
    {
     "data": {
      "text/plain": [
       "<_PrefetchDataset element_spec=(TensorSpec(shape=(None, 128, 128, 3), dtype=tf.float32, name=None), TensorSpec(shape=(None, 38), dtype=tf.float32, name=None))>"
      ]
     },
     "execution_count": 60,
     "metadata": {},
     "output_type": "execute_result"
    }
   ],
   "source": [
    "training_set"
   ]
  },
  {
   "cell_type": "code",
   "execution_count": 61,
   "id": "af9d7b76-afc1-41a0-9dfd-bf6346e39263",
   "metadata": {},
   "outputs": [
    {
     "name": "stdout",
     "output_type": "stream",
     "text": [
      "tf.Tensor(\n",
      "[[[[190.25 179.25 187.25]\n",
      "   [179.25 168.25 176.25]\n",
      "   [172.25 161.25 169.25]\n",
      "   ...\n",
      "   [209.5  199.5  207.5 ]\n",
      "   [203.5  193.5  201.5 ]\n",
      "   [199.25 189.25 197.25]]\n",
      "\n",
      "  [[185.5  174.5  182.5 ]\n",
      "   [167.75 156.75 164.75]\n",
      "   [190.   179.   187.  ]\n",
      "   ...\n",
      "   [213.   203.   211.  ]\n",
      "   [203.75 193.75 201.75]\n",
      "   [177.5  167.5  175.5 ]]\n",
      "\n",
      "  [[198.5  187.5  195.5 ]\n",
      "   [176.75 165.75 173.75]\n",
      "   [188.25 177.25 185.25]\n",
      "   ...\n",
      "   [211.75 201.75 209.75]\n",
      "   [193.25 184.75 191.75]\n",
      "   [194.75 184.75 192.75]]\n",
      "\n",
      "  ...\n",
      "\n",
      "  [[202.5  194.5  205.5 ]\n",
      "   [203.75 195.75 206.75]\n",
      "   [209.75 201.75 212.75]\n",
      "   ...\n",
      "   [229.5  222.5  230.5 ]\n",
      "   [232.   225.   233.  ]\n",
      "   [226.   219.   227.  ]]\n",
      "\n",
      "  [[195.25 187.25 198.25]\n",
      "   [197.5  189.5  200.5 ]\n",
      "   [199.   191.   202.  ]\n",
      "   ...\n",
      "   [224.25 217.25 225.25]\n",
      "   [232.5  225.5  233.5 ]\n",
      "   [221.75 214.75 222.75]]\n",
      "\n",
      "  [[205.75 197.75 208.75]\n",
      "   [202.   194.   205.  ]\n",
      "   [200.   192.   203.  ]\n",
      "   ...\n",
      "   [221.75 214.75 222.75]\n",
      "   [215.25 208.25 216.25]\n",
      "   [229.5  222.5  230.5 ]]]\n",
      "\n",
      "\n",
      " [[[197.25 201.25 204.25]\n",
      "   [196.25 200.25 203.25]\n",
      "   [196.5  200.5  203.5 ]\n",
      "   ...\n",
      "   [172.   168.   166.  ]\n",
      "   [140.75 135.25 133.75]\n",
      "   [148.5  143.5  140.  ]]\n",
      "\n",
      "  [[198.   202.   205.  ]\n",
      "   [200.75 204.75 207.75]\n",
      "   [200.25 204.25 207.25]\n",
      "   ...\n",
      "   [142.75 136.75 139.75]\n",
      "   [162.5  156.5  159.5 ]\n",
      "   [155.75 149.5  153.25]]\n",
      "\n",
      "  [[200.75 204.75 207.75]\n",
      "   [197.25 201.25 204.25]\n",
      "   [196.   200.   203.  ]\n",
      "   ...\n",
      "   [189.   179.5  186.  ]\n",
      "   [152.25 145.25 152.25]\n",
      "   [181.25 176.25 182.5 ]]\n",
      "\n",
      "  ...\n",
      "\n",
      "  [[ 48.    65.    47.  ]\n",
      "   [ 89.25 106.25  88.25]\n",
      "   [ 77.5   94.5   76.5 ]\n",
      "   ...\n",
      "   [175.   170.   167.  ]\n",
      "   [157.5  152.5  149.5 ]\n",
      "   [164.75 159.75 156.75]]\n",
      "\n",
      "  [[ 24.25  41.25  22.25]\n",
      "   [ 85.25 102.25  83.25]\n",
      "   [113.25 130.25 112.25]\n",
      "   ...\n",
      "   [141.25 136.25 133.25]\n",
      "   [151.25 146.25 143.25]\n",
      "   [132.   127.   123.  ]]\n",
      "\n",
      "  [[  9.5   27.5    5.5 ]\n",
      "   [ 29.5   46.5   27.5 ]\n",
      "   [ 75.75  92.75  74.75]\n",
      "   ...\n",
      "   [146.   141.   138.  ]\n",
      "   [137.5  132.5  129.5 ]\n",
      "   [149.75 144.75 140.75]]]\n",
      "\n",
      "\n",
      " [[[164.   144.   153.  ]\n",
      "   [160.   140.   149.  ]\n",
      "   [166.75 146.75 155.75]\n",
      "   ...\n",
      "   [136.   116.   125.  ]\n",
      "   [133.   113.   122.  ]\n",
      "   [146.25 126.25 135.25]]\n",
      "\n",
      "  [[168.5  148.5  157.5 ]\n",
      "   [169.25 149.25 158.25]\n",
      "   [173.75 153.75 162.75]\n",
      "   ...\n",
      "   [147.5  127.5  136.5 ]\n",
      "   [124.5  104.5  113.5 ]\n",
      "   [141.25 121.25 130.25]]\n",
      "\n",
      "  [[162.75 142.75 151.75]\n",
      "   [171.5  151.5  160.5 ]\n",
      "   [165.   145.   154.  ]\n",
      "   ...\n",
      "   [133.75 113.75 122.75]\n",
      "   [144.   124.   133.  ]\n",
      "   [138.   118.   127.  ]]\n",
      "\n",
      "  ...\n",
      "\n",
      "  [[146.   130.   140.  ]\n",
      "   [143.25 127.25 137.25]\n",
      "   [145.5  129.5  139.5 ]\n",
      "   ...\n",
      "   [138.   123.   128.  ]\n",
      "   [136.5  121.5  126.5 ]\n",
      "   [139.25 124.25 129.25]]\n",
      "\n",
      "  [[141.75 125.75 135.75]\n",
      "   [140.   124.   134.  ]\n",
      "   [136.25 120.25 130.25]\n",
      "   ...\n",
      "   [139.25 124.25 129.25]\n",
      "   [139.25 124.25 129.25]\n",
      "   [143.25 128.25 133.25]]\n",
      "\n",
      "  [[147.75 131.75 141.75]\n",
      "   [146.75 130.75 140.75]\n",
      "   [147.5  131.5  141.5 ]\n",
      "   ...\n",
      "   [140.75 125.75 130.75]\n",
      "   [142.   127.   132.  ]\n",
      "   [143.25 128.25 133.25]]]\n",
      "\n",
      "\n",
      " ...\n",
      "\n",
      "\n",
      " [[[  0.     0.     0.  ]\n",
      "   [  0.     0.     0.  ]\n",
      "   [  0.     0.     0.  ]\n",
      "   ...\n",
      "   [  0.     0.     0.  ]\n",
      "   [  0.     0.     0.  ]\n",
      "   [  0.     0.     0.  ]]\n",
      "\n",
      "  [[  0.     0.     0.  ]\n",
      "   [  0.     0.     0.  ]\n",
      "   [  0.     0.     0.  ]\n",
      "   ...\n",
      "   [  0.     0.     0.  ]\n",
      "   [  0.     0.     0.  ]\n",
      "   [  0.     0.     0.  ]]\n",
      "\n",
      "  [[  0.     0.     0.  ]\n",
      "   [  0.     0.     0.  ]\n",
      "   [  0.     0.     0.  ]\n",
      "   ...\n",
      "   [  0.     0.     0.  ]\n",
      "   [  0.     0.     0.  ]\n",
      "   [  0.     0.     0.  ]]\n",
      "\n",
      "  ...\n",
      "\n",
      "  [[  0.     0.     0.  ]\n",
      "   [  0.     0.     0.  ]\n",
      "   [  0.     0.     0.  ]\n",
      "   ...\n",
      "   [  0.     0.     0.  ]\n",
      "   [  0.     0.     0.  ]\n",
      "   [  0.     0.     0.  ]]\n",
      "\n",
      "  [[  0.     0.     0.  ]\n",
      "   [  0.     0.     0.  ]\n",
      "   [  0.     0.     0.  ]\n",
      "   ...\n",
      "   [  0.     0.     0.  ]\n",
      "   [  0.     0.     0.  ]\n",
      "   [  0.     0.     0.  ]]\n",
      "\n",
      "  [[  0.     0.     0.  ]\n",
      "   [  0.     0.     0.  ]\n",
      "   [  0.     0.     0.  ]\n",
      "   ...\n",
      "   [  0.     0.     0.  ]\n",
      "   [  0.     0.     0.  ]\n",
      "   [  0.     0.     0.  ]]]\n",
      "\n",
      "\n",
      " [[[171.25 166.25 163.25]\n",
      "   [166.5  161.5  158.5 ]\n",
      "   [164.5  159.5  156.5 ]\n",
      "   ...\n",
      "   [204.   203.   208.  ]\n",
      "   [197.   196.   201.  ]\n",
      "   [197.75 196.75 201.75]]\n",
      "\n",
      "  [[168.75 163.75 160.75]\n",
      "   [169.   164.   161.  ]\n",
      "   [163.75 158.75 155.75]\n",
      "   ...\n",
      "   [208.75 207.75 212.75]\n",
      "   [194.5  193.5  198.5 ]\n",
      "   [183.25 182.25 187.25]]\n",
      "\n",
      "  [[163.   158.   155.  ]\n",
      "   [165.5  160.5  157.5 ]\n",
      "   [164.   159.   156.  ]\n",
      "   ...\n",
      "   [201.5  200.5  205.5 ]\n",
      "   [197.   196.   201.  ]\n",
      "   [194.25 193.25 198.25]]\n",
      "\n",
      "  ...\n",
      "\n",
      "  [[134.   124.   122.  ]\n",
      "   [137.25 127.25 125.25]\n",
      "   [145.   135.   133.  ]\n",
      "   ...\n",
      "   [161.25 156.25 153.25]\n",
      "   [141.   136.   133.  ]\n",
      "   [165.75 160.75 157.75]]\n",
      "\n",
      "  [[137.   127.   125.  ]\n",
      "   [136.   126.   124.  ]\n",
      "   [139.25 129.25 127.25]\n",
      "   ...\n",
      "   [169.25 164.25 161.25]\n",
      "   [179.   174.   171.  ]\n",
      "   [168.75 163.75 160.75]]\n",
      "\n",
      "  [[131.25 121.25 119.25]\n",
      "   [127.25 117.25 115.25]\n",
      "   [142.5  132.5  130.5 ]\n",
      "   ...\n",
      "   [171.   166.   163.  ]\n",
      "   [171.25 166.25 163.25]\n",
      "   [171.   166.   163.  ]]]\n",
      "\n",
      "\n",
      " [[[168.5  163.5  167.5 ]\n",
      "   [166.5  161.5  165.5 ]\n",
      "   [170.   165.   169.  ]\n",
      "   ...\n",
      "   [139.5  133.5  135.5 ]\n",
      "   [142.75 136.75 138.75]\n",
      "   [143.25 137.25 139.25]]\n",
      "\n",
      "  [[165.   160.   164.  ]\n",
      "   [162.75 157.75 161.75]\n",
      "   [161.   156.   160.  ]\n",
      "   ...\n",
      "   [136.75 130.75 132.75]\n",
      "   [150.   144.   146.  ]\n",
      "   [145.   139.   141.  ]]\n",
      "\n",
      "  [[153.25 148.25 152.25]\n",
      "   [164.   159.   163.  ]\n",
      "   [168.75 163.75 167.75]\n",
      "   ...\n",
      "   [134.75 128.75 130.75]\n",
      "   [129.25 123.25 125.25]\n",
      "   [147.5  141.5  143.5 ]]\n",
      "\n",
      "  ...\n",
      "\n",
      "  [[157.   149.   147.  ]\n",
      "   [158.5  150.5  148.5 ]\n",
      "   [156.5  148.5  146.5 ]\n",
      "   ...\n",
      "   [130.   120.   119.  ]\n",
      "   [128.25 118.25 117.25]\n",
      "   [127.25 117.25 116.25]]\n",
      "\n",
      "  [[156.75 148.75 146.75]\n",
      "   [155.75 147.75 145.75]\n",
      "   [162.   154.   152.  ]\n",
      "   ...\n",
      "   [121.   111.   110.  ]\n",
      "   [121.5  111.5  110.5 ]\n",
      "   [122.25 112.25 111.25]]\n",
      "\n",
      "  [[160.5  152.5  150.5 ]\n",
      "   [147.   139.   137.  ]\n",
      "   [160.   152.   150.  ]\n",
      "   ...\n",
      "   [129.25 119.25 118.25]\n",
      "   [127.75 117.75 116.75]\n",
      "   [124.25 114.25 113.25]]]], shape=(32, 128, 128, 3), dtype=float32) (32, 128, 128, 3)\n",
      "tf.Tensor(\n",
      "[[0. 0. 0. ... 0. 0. 0.]\n",
      " [0. 0. 0. ... 0. 0. 0.]\n",
      " [0. 0. 0. ... 0. 0. 0.]\n",
      " ...\n",
      " [0. 0. 0. ... 0. 1. 0.]\n",
      " [0. 0. 0. ... 0. 0. 0.]\n",
      " [0. 0. 0. ... 0. 0. 0.]], shape=(32, 38), dtype=float32) (32, 38)\n"
     ]
    }
   ],
   "source": [
    "for x,y in training_set:\n",
    "    print(x,x.shape)\n",
    "    print(y, y.shape)\n",
    "    break"
   ]
  },
  {
   "cell_type": "markdown",
   "id": "c84ee1f5-c884-4dab-b193-ed9bdb2f090e",
   "metadata": {},
   "source": [
    "### Till this point we have imported all the libraries, and taken the images in the batches. By this we have done pre-processing of our training and validating dataset "
   ]
  },
  {
   "cell_type": "markdown",
   "id": "d53d4e2d-f307-4108-9b81-7478be1bc09a",
   "metadata": {},
   "source": [
    "### Image input > Convulations > Pooling > fully connected "
   ]
  },
  {
   "cell_type": "markdown",
   "id": "d1ff6f44-30af-4ba1-8a3f-a41094291003",
   "metadata": {},
   "source": [
    "### To avoid Overshooting during the training process (i.e. with each epoch loss increases) we made several changes: \n",
    "    1. We changed the learning rate from 0.1 to 0.0001, slowing this ensured that the program is well learnt. \n",
    "    2. Increase the number of neurons to avoid underfitting \n",
    "    3. Add more convolution layers to extract more features."
   ]
  },
  {
   "cell_type": "code",
   "execution_count": 150,
   "id": "e4011cfe-aecd-41dd-b4e4-d0c44cdf9ced",
   "metadata": {},
   "outputs": [],
   "source": [
    "from tensorflow.keras.layers import Dense,Conv2D,MaxPool2D,Flatten\n",
    "from tensorflow.keras.models import Sequential \n",
    "from keras.layers import Dropout\n"
   ]
  },
  {
   "cell_type": "code",
   "execution_count": 151,
   "id": "eeb69338-0adb-4c78-b7f9-dc04380573da",
   "metadata": {},
   "outputs": [],
   "source": [
    "model = tf.keras.models.Sequential()"
   ]
  },
  {
   "cell_type": "markdown",
   "id": "6ee13a12-8d53-4414-a864-40aa88d5b4b1",
   "metadata": {},
   "source": [
    "## Phase 1 and 2 : Convolutional Layer and Pooling"
   ]
  },
  {
   "cell_type": "code",
   "execution_count": 152,
   "id": "9c48842f-6d24-4eeb-95ef-5c1d6908b426",
   "metadata": {},
   "outputs": [],
   "source": [
    "model.add(tf.keras.layers.Conv2D(filters=32,kernel_size=3,padding='same',activation='relu',input_shape=[128,128,3]))\n",
    "model.add(tf.keras.layers.Conv2D(filters=32,kernel_size=3,activation='relu'))\n",
    "model.add(tf.keras.layers.MaxPool2D(pool_size=2,strides=2))"
   ]
  },
  {
   "cell_type": "code",
   "execution_count": 153,
   "id": "3a8eb4ff-d0aa-4aa8-84a8-a21dc144df24",
   "metadata": {},
   "outputs": [],
   "source": [
    "model.add(tf.keras.layers.Conv2D(filters=64,kernel_size=3,padding='same',activation='relu',input_shape=[128,128,3]))\n",
    "model.add(tf.keras.layers.Conv2D(filters=64,kernel_size=3,activation='relu'))\n",
    "model.add(tf.keras.layers.MaxPool2D(pool_size=2,strides=2))"
   ]
  },
  {
   "cell_type": "code",
   "execution_count": 154,
   "id": "d2cb6f0a-b061-48a5-b1ee-817dbc797f2d",
   "metadata": {},
   "outputs": [],
   "source": [
    "model.add(tf.keras.layers.Conv2D(filters=128,kernel_size=3,padding='same',activation='relu',input_shape=[128,128,3]))\n",
    "model.add(tf.keras.layers.Conv2D(filters=128,kernel_size=3,activation='relu'))\n",
    "model.add(tf.keras.layers.MaxPool2D(pool_size=2,strides=2))"
   ]
  },
  {
   "cell_type": "code",
   "execution_count": 155,
   "id": "d81d7f08-c408-4d81-acbc-79d037a591cc",
   "metadata": {},
   "outputs": [],
   "source": [
    "model.add(tf.keras.layers.Conv2D(filters=256,kernel_size=3,padding='same',activation='relu',input_shape=[128,128,3]))\n",
    "model.add(tf.keras.layers.Conv2D(filters=256,kernel_size=3,activation='relu'))\n",
    "model.add(tf.keras.layers.MaxPool2D(pool_size=2,strides=2))"
   ]
  },
  {
   "cell_type": "code",
   "execution_count": 156,
   "id": "dfadb445-996c-4881-9674-389b4c5affd2",
   "metadata": {},
   "outputs": [],
   "source": [
    "model.add(tf.keras.layers.Conv2D(filters=512,kernel_size=3,padding='same',activation='relu',input_shape=[128,128,3]))\n",
    "model.add(tf.keras.layers.Conv2D(filters=512,kernel_size=3,activation='relu'))\n",
    "model.add(tf.keras.layers.MaxPool2D(pool_size=2,strides=2)) #added another conv layer "
   ]
  },
  {
   "cell_type": "code",
   "execution_count": 157,
   "id": "81f63eab-4cf5-4cc6-95bb-77c28acd1e4a",
   "metadata": {},
   "outputs": [],
   "source": [
    "model.add(Dropout(0.25)) #drop 25% of all the layers you are getting , doing this to avoid overfitting. Making more models leads to overfitting"
   ]
  },
  {
   "cell_type": "markdown",
   "id": "2d558c82-5e3e-4672-aaca-51478674de42",
   "metadata": {},
   "source": [
    "### Flattening "
   ]
  },
  {
   "cell_type": "code",
   "execution_count": 158,
   "id": "01ab602a-725e-46f5-998c-6c5d2a40647e",
   "metadata": {},
   "outputs": [],
   "source": [
    "model.add(Flatten())"
   ]
  },
  {
   "cell_type": "code",
   "execution_count": 159,
   "id": "88a76317-1299-4b53-87b1-09400c7f9e4c",
   "metadata": {},
   "outputs": [],
   "source": [
    "model.add(Dense(units=1500, activation='relu')) #changed from 1024 to 1500 // no of nurons "
   ]
  },
  {
   "cell_type": "code",
   "execution_count": 160,
   "id": "d700988d-1226-4082-8095-49851f86e708",
   "metadata": {},
   "outputs": [],
   "source": [
    "\n",
    "model.add(Dropout(0.4)) #drop 25% of all the layers you are getting , doing this to avoid overfitting. Making more models leads to overfitting\n",
    "\n",
    "#Output Layer "
   ]
  },
  {
   "cell_type": "code",
   "execution_count": 161,
   "id": "838cfcf2-8ca4-4cb2-b03c-5711976b8dca",
   "metadata": {},
   "outputs": [],
   "source": [
    "model.add(Dense(units=38, activation='softmax')) ##using softmax as we need result in probablity"
   ]
  },
  {
   "cell_type": "markdown",
   "id": "6df31fb1-a1c4-47bc-a383-17360799310e",
   "metadata": {},
   "source": [
    "## Compiling the Model"
   ]
  },
  {
   "cell_type": "code",
   "execution_count": 162,
   "id": "28d5c4b8-c89f-4be9-b9ef-9edffde6ff57",
   "metadata": {},
   "outputs": [],
   "source": [
    "import tensorflow as tf\n",
    "model.compile(optimizer=tf.keras.optimizers.Adam(\n",
    "    learning_rate=0.0001),loss='categorical_crossentropy',metrics=['accuracy'])"
   ]
  },
  {
   "cell_type": "code",
   "execution_count": 163,
   "id": "954d15d3-1dba-4803-98c2-891e600dade4",
   "metadata": {},
   "outputs": [
    {
     "data": {
      "text/html": [
       "<pre style=\"white-space:pre;overflow-x:auto;line-height:normal;font-family:Menlo,'DejaVu Sans Mono',consolas,'Courier New',monospace\"><span style=\"font-weight: bold\">Model: \"sequential_10\"</span>\n",
       "</pre>\n"
      ],
      "text/plain": [
       "\u001b[1mModel: \"sequential_10\"\u001b[0m\n"
      ]
     },
     "metadata": {},
     "output_type": "display_data"
    },
    {
     "data": {
      "text/html": [
       "<pre style=\"white-space:pre;overflow-x:auto;line-height:normal;font-family:Menlo,'DejaVu Sans Mono',consolas,'Courier New',monospace\">┏━━━━━━━━━━━━━━━━━━━━━━━━━━━━━━━━━━━━━━┳━━━━━━━━━━━━━━━━━━━━━━━━━━━━━┳━━━━━━━━━━━━━━━━━┓\n",
       "┃<span style=\"font-weight: bold\"> Layer (type)                         </span>┃<span style=\"font-weight: bold\"> Output Shape                </span>┃<span style=\"font-weight: bold\">         Param # </span>┃\n",
       "┡━━━━━━━━━━━━━━━━━━━━━━━━━━━━━━━━━━━━━━╇━━━━━━━━━━━━━━━━━━━━━━━━━━━━━╇━━━━━━━━━━━━━━━━━┩\n",
       "│ conv2d_87 (<span style=\"color: #0087ff; text-decoration-color: #0087ff\">Conv2D</span>)                   │ (<span style=\"color: #00d7ff; text-decoration-color: #00d7ff\">None</span>, <span style=\"color: #00af00; text-decoration-color: #00af00\">128</span>, <span style=\"color: #00af00; text-decoration-color: #00af00\">128</span>, <span style=\"color: #00af00; text-decoration-color: #00af00\">32</span>)        │             <span style=\"color: #00af00; text-decoration-color: #00af00\">896</span> │\n",
       "├──────────────────────────────────────┼─────────────────────────────┼─────────────────┤\n",
       "│ conv2d_88 (<span style=\"color: #0087ff; text-decoration-color: #0087ff\">Conv2D</span>)                   │ (<span style=\"color: #00d7ff; text-decoration-color: #00d7ff\">None</span>, <span style=\"color: #00af00; text-decoration-color: #00af00\">126</span>, <span style=\"color: #00af00; text-decoration-color: #00af00\">126</span>, <span style=\"color: #00af00; text-decoration-color: #00af00\">32</span>)        │           <span style=\"color: #00af00; text-decoration-color: #00af00\">9,248</span> │\n",
       "├──────────────────────────────────────┼─────────────────────────────┼─────────────────┤\n",
       "│ max_pooling2d_39 (<span style=\"color: #0087ff; text-decoration-color: #0087ff\">MaxPooling2D</span>)      │ (<span style=\"color: #00d7ff; text-decoration-color: #00d7ff\">None</span>, <span style=\"color: #00af00; text-decoration-color: #00af00\">63</span>, <span style=\"color: #00af00; text-decoration-color: #00af00\">63</span>, <span style=\"color: #00af00; text-decoration-color: #00af00\">32</span>)          │               <span style=\"color: #00af00; text-decoration-color: #00af00\">0</span> │\n",
       "├──────────────────────────────────────┼─────────────────────────────┼─────────────────┤\n",
       "│ conv2d_89 (<span style=\"color: #0087ff; text-decoration-color: #0087ff\">Conv2D</span>)                   │ (<span style=\"color: #00d7ff; text-decoration-color: #00d7ff\">None</span>, <span style=\"color: #00af00; text-decoration-color: #00af00\">63</span>, <span style=\"color: #00af00; text-decoration-color: #00af00\">63</span>, <span style=\"color: #00af00; text-decoration-color: #00af00\">64</span>)          │          <span style=\"color: #00af00; text-decoration-color: #00af00\">18,496</span> │\n",
       "├──────────────────────────────────────┼─────────────────────────────┼─────────────────┤\n",
       "│ conv2d_90 (<span style=\"color: #0087ff; text-decoration-color: #0087ff\">Conv2D</span>)                   │ (<span style=\"color: #00d7ff; text-decoration-color: #00d7ff\">None</span>, <span style=\"color: #00af00; text-decoration-color: #00af00\">61</span>, <span style=\"color: #00af00; text-decoration-color: #00af00\">61</span>, <span style=\"color: #00af00; text-decoration-color: #00af00\">64</span>)          │          <span style=\"color: #00af00; text-decoration-color: #00af00\">36,928</span> │\n",
       "├──────────────────────────────────────┼─────────────────────────────┼─────────────────┤\n",
       "│ max_pooling2d_40 (<span style=\"color: #0087ff; text-decoration-color: #0087ff\">MaxPooling2D</span>)      │ (<span style=\"color: #00d7ff; text-decoration-color: #00d7ff\">None</span>, <span style=\"color: #00af00; text-decoration-color: #00af00\">30</span>, <span style=\"color: #00af00; text-decoration-color: #00af00\">30</span>, <span style=\"color: #00af00; text-decoration-color: #00af00\">64</span>)          │               <span style=\"color: #00af00; text-decoration-color: #00af00\">0</span> │\n",
       "├──────────────────────────────────────┼─────────────────────────────┼─────────────────┤\n",
       "│ conv2d_91 (<span style=\"color: #0087ff; text-decoration-color: #0087ff\">Conv2D</span>)                   │ (<span style=\"color: #00d7ff; text-decoration-color: #00d7ff\">None</span>, <span style=\"color: #00af00; text-decoration-color: #00af00\">30</span>, <span style=\"color: #00af00; text-decoration-color: #00af00\">30</span>, <span style=\"color: #00af00; text-decoration-color: #00af00\">128</span>)         │          <span style=\"color: #00af00; text-decoration-color: #00af00\">73,856</span> │\n",
       "├──────────────────────────────────────┼─────────────────────────────┼─────────────────┤\n",
       "│ conv2d_92 (<span style=\"color: #0087ff; text-decoration-color: #0087ff\">Conv2D</span>)                   │ (<span style=\"color: #00d7ff; text-decoration-color: #00d7ff\">None</span>, <span style=\"color: #00af00; text-decoration-color: #00af00\">28</span>, <span style=\"color: #00af00; text-decoration-color: #00af00\">28</span>, <span style=\"color: #00af00; text-decoration-color: #00af00\">128</span>)         │         <span style=\"color: #00af00; text-decoration-color: #00af00\">147,584</span> │\n",
       "├──────────────────────────────────────┼─────────────────────────────┼─────────────────┤\n",
       "│ max_pooling2d_41 (<span style=\"color: #0087ff; text-decoration-color: #0087ff\">MaxPooling2D</span>)      │ (<span style=\"color: #00d7ff; text-decoration-color: #00d7ff\">None</span>, <span style=\"color: #00af00; text-decoration-color: #00af00\">14</span>, <span style=\"color: #00af00; text-decoration-color: #00af00\">14</span>, <span style=\"color: #00af00; text-decoration-color: #00af00\">128</span>)         │               <span style=\"color: #00af00; text-decoration-color: #00af00\">0</span> │\n",
       "├──────────────────────────────────────┼─────────────────────────────┼─────────────────┤\n",
       "│ conv2d_93 (<span style=\"color: #0087ff; text-decoration-color: #0087ff\">Conv2D</span>)                   │ (<span style=\"color: #00d7ff; text-decoration-color: #00d7ff\">None</span>, <span style=\"color: #00af00; text-decoration-color: #00af00\">14</span>, <span style=\"color: #00af00; text-decoration-color: #00af00\">14</span>, <span style=\"color: #00af00; text-decoration-color: #00af00\">256</span>)         │         <span style=\"color: #00af00; text-decoration-color: #00af00\">295,168</span> │\n",
       "├──────────────────────────────────────┼─────────────────────────────┼─────────────────┤\n",
       "│ conv2d_94 (<span style=\"color: #0087ff; text-decoration-color: #0087ff\">Conv2D</span>)                   │ (<span style=\"color: #00d7ff; text-decoration-color: #00d7ff\">None</span>, <span style=\"color: #00af00; text-decoration-color: #00af00\">12</span>, <span style=\"color: #00af00; text-decoration-color: #00af00\">12</span>, <span style=\"color: #00af00; text-decoration-color: #00af00\">256</span>)         │         <span style=\"color: #00af00; text-decoration-color: #00af00\">590,080</span> │\n",
       "├──────────────────────────────────────┼─────────────────────────────┼─────────────────┤\n",
       "│ max_pooling2d_42 (<span style=\"color: #0087ff; text-decoration-color: #0087ff\">MaxPooling2D</span>)      │ (<span style=\"color: #00d7ff; text-decoration-color: #00d7ff\">None</span>, <span style=\"color: #00af00; text-decoration-color: #00af00\">6</span>, <span style=\"color: #00af00; text-decoration-color: #00af00\">6</span>, <span style=\"color: #00af00; text-decoration-color: #00af00\">256</span>)           │               <span style=\"color: #00af00; text-decoration-color: #00af00\">0</span> │\n",
       "├──────────────────────────────────────┼─────────────────────────────┼─────────────────┤\n",
       "│ conv2d_95 (<span style=\"color: #0087ff; text-decoration-color: #0087ff\">Conv2D</span>)                   │ (<span style=\"color: #00d7ff; text-decoration-color: #00d7ff\">None</span>, <span style=\"color: #00af00; text-decoration-color: #00af00\">6</span>, <span style=\"color: #00af00; text-decoration-color: #00af00\">6</span>, <span style=\"color: #00af00; text-decoration-color: #00af00\">512</span>)           │       <span style=\"color: #00af00; text-decoration-color: #00af00\">1,180,160</span> │\n",
       "├──────────────────────────────────────┼─────────────────────────────┼─────────────────┤\n",
       "│ conv2d_96 (<span style=\"color: #0087ff; text-decoration-color: #0087ff\">Conv2D</span>)                   │ (<span style=\"color: #00d7ff; text-decoration-color: #00d7ff\">None</span>, <span style=\"color: #00af00; text-decoration-color: #00af00\">4</span>, <span style=\"color: #00af00; text-decoration-color: #00af00\">4</span>, <span style=\"color: #00af00; text-decoration-color: #00af00\">512</span>)           │       <span style=\"color: #00af00; text-decoration-color: #00af00\">2,359,808</span> │\n",
       "├──────────────────────────────────────┼─────────────────────────────┼─────────────────┤\n",
       "│ max_pooling2d_43 (<span style=\"color: #0087ff; text-decoration-color: #0087ff\">MaxPooling2D</span>)      │ (<span style=\"color: #00d7ff; text-decoration-color: #00d7ff\">None</span>, <span style=\"color: #00af00; text-decoration-color: #00af00\">2</span>, <span style=\"color: #00af00; text-decoration-color: #00af00\">2</span>, <span style=\"color: #00af00; text-decoration-color: #00af00\">512</span>)           │               <span style=\"color: #00af00; text-decoration-color: #00af00\">0</span> │\n",
       "├──────────────────────────────────────┼─────────────────────────────┼─────────────────┤\n",
       "│ dropout_2 (<span style=\"color: #0087ff; text-decoration-color: #0087ff\">Dropout</span>)                  │ (<span style=\"color: #00d7ff; text-decoration-color: #00d7ff\">None</span>, <span style=\"color: #00af00; text-decoration-color: #00af00\">2</span>, <span style=\"color: #00af00; text-decoration-color: #00af00\">2</span>, <span style=\"color: #00af00; text-decoration-color: #00af00\">512</span>)           │               <span style=\"color: #00af00; text-decoration-color: #00af00\">0</span> │\n",
       "├──────────────────────────────────────┼─────────────────────────────┼─────────────────┤\n",
       "│ flatten_5 (<span style=\"color: #0087ff; text-decoration-color: #0087ff\">Flatten</span>)                  │ (<span style=\"color: #00d7ff; text-decoration-color: #00d7ff\">None</span>, <span style=\"color: #00af00; text-decoration-color: #00af00\">2048</span>)                │               <span style=\"color: #00af00; text-decoration-color: #00af00\">0</span> │\n",
       "├──────────────────────────────────────┼─────────────────────────────┼─────────────────┤\n",
       "│ dense_10 (<span style=\"color: #0087ff; text-decoration-color: #0087ff\">Dense</span>)                     │ (<span style=\"color: #00d7ff; text-decoration-color: #00d7ff\">None</span>, <span style=\"color: #00af00; text-decoration-color: #00af00\">1500</span>)                │       <span style=\"color: #00af00; text-decoration-color: #00af00\">3,073,500</span> │\n",
       "├──────────────────────────────────────┼─────────────────────────────┼─────────────────┤\n",
       "│ dropout_3 (<span style=\"color: #0087ff; text-decoration-color: #0087ff\">Dropout</span>)                  │ (<span style=\"color: #00d7ff; text-decoration-color: #00d7ff\">None</span>, <span style=\"color: #00af00; text-decoration-color: #00af00\">1500</span>)                │               <span style=\"color: #00af00; text-decoration-color: #00af00\">0</span> │\n",
       "├──────────────────────────────────────┼─────────────────────────────┼─────────────────┤\n",
       "│ dense_11 (<span style=\"color: #0087ff; text-decoration-color: #0087ff\">Dense</span>)                     │ (<span style=\"color: #00d7ff; text-decoration-color: #00d7ff\">None</span>, <span style=\"color: #00af00; text-decoration-color: #00af00\">38</span>)                  │          <span style=\"color: #00af00; text-decoration-color: #00af00\">57,038</span> │\n",
       "└──────────────────────────────────────┴─────────────────────────────┴─────────────────┘\n",
       "</pre>\n"
      ],
      "text/plain": [
       "┏━━━━━━━━━━━━━━━━━━━━━━━━━━━━━━━━━━━━━━┳━━━━━━━━━━━━━━━━━━━━━━━━━━━━━┳━━━━━━━━━━━━━━━━━┓\n",
       "┃\u001b[1m \u001b[0m\u001b[1mLayer (type)                        \u001b[0m\u001b[1m \u001b[0m┃\u001b[1m \u001b[0m\u001b[1mOutput Shape               \u001b[0m\u001b[1m \u001b[0m┃\u001b[1m \u001b[0m\u001b[1m        Param #\u001b[0m\u001b[1m \u001b[0m┃\n",
       "┡━━━━━━━━━━━━━━━━━━━━━━━━━━━━━━━━━━━━━━╇━━━━━━━━━━━━━━━━━━━━━━━━━━━━━╇━━━━━━━━━━━━━━━━━┩\n",
       "│ conv2d_87 (\u001b[38;5;33mConv2D\u001b[0m)                   │ (\u001b[38;5;45mNone\u001b[0m, \u001b[38;5;34m128\u001b[0m, \u001b[38;5;34m128\u001b[0m, \u001b[38;5;34m32\u001b[0m)        │             \u001b[38;5;34m896\u001b[0m │\n",
       "├──────────────────────────────────────┼─────────────────────────────┼─────────────────┤\n",
       "│ conv2d_88 (\u001b[38;5;33mConv2D\u001b[0m)                   │ (\u001b[38;5;45mNone\u001b[0m, \u001b[38;5;34m126\u001b[0m, \u001b[38;5;34m126\u001b[0m, \u001b[38;5;34m32\u001b[0m)        │           \u001b[38;5;34m9,248\u001b[0m │\n",
       "├──────────────────────────────────────┼─────────────────────────────┼─────────────────┤\n",
       "│ max_pooling2d_39 (\u001b[38;5;33mMaxPooling2D\u001b[0m)      │ (\u001b[38;5;45mNone\u001b[0m, \u001b[38;5;34m63\u001b[0m, \u001b[38;5;34m63\u001b[0m, \u001b[38;5;34m32\u001b[0m)          │               \u001b[38;5;34m0\u001b[0m │\n",
       "├──────────────────────────────────────┼─────────────────────────────┼─────────────────┤\n",
       "│ conv2d_89 (\u001b[38;5;33mConv2D\u001b[0m)                   │ (\u001b[38;5;45mNone\u001b[0m, \u001b[38;5;34m63\u001b[0m, \u001b[38;5;34m63\u001b[0m, \u001b[38;5;34m64\u001b[0m)          │          \u001b[38;5;34m18,496\u001b[0m │\n",
       "├──────────────────────────────────────┼─────────────────────────────┼─────────────────┤\n",
       "│ conv2d_90 (\u001b[38;5;33mConv2D\u001b[0m)                   │ (\u001b[38;5;45mNone\u001b[0m, \u001b[38;5;34m61\u001b[0m, \u001b[38;5;34m61\u001b[0m, \u001b[38;5;34m64\u001b[0m)          │          \u001b[38;5;34m36,928\u001b[0m │\n",
       "├──────────────────────────────────────┼─────────────────────────────┼─────────────────┤\n",
       "│ max_pooling2d_40 (\u001b[38;5;33mMaxPooling2D\u001b[0m)      │ (\u001b[38;5;45mNone\u001b[0m, \u001b[38;5;34m30\u001b[0m, \u001b[38;5;34m30\u001b[0m, \u001b[38;5;34m64\u001b[0m)          │               \u001b[38;5;34m0\u001b[0m │\n",
       "├──────────────────────────────────────┼─────────────────────────────┼─────────────────┤\n",
       "│ conv2d_91 (\u001b[38;5;33mConv2D\u001b[0m)                   │ (\u001b[38;5;45mNone\u001b[0m, \u001b[38;5;34m30\u001b[0m, \u001b[38;5;34m30\u001b[0m, \u001b[38;5;34m128\u001b[0m)         │          \u001b[38;5;34m73,856\u001b[0m │\n",
       "├──────────────────────────────────────┼─────────────────────────────┼─────────────────┤\n",
       "│ conv2d_92 (\u001b[38;5;33mConv2D\u001b[0m)                   │ (\u001b[38;5;45mNone\u001b[0m, \u001b[38;5;34m28\u001b[0m, \u001b[38;5;34m28\u001b[0m, \u001b[38;5;34m128\u001b[0m)         │         \u001b[38;5;34m147,584\u001b[0m │\n",
       "├──────────────────────────────────────┼─────────────────────────────┼─────────────────┤\n",
       "│ max_pooling2d_41 (\u001b[38;5;33mMaxPooling2D\u001b[0m)      │ (\u001b[38;5;45mNone\u001b[0m, \u001b[38;5;34m14\u001b[0m, \u001b[38;5;34m14\u001b[0m, \u001b[38;5;34m128\u001b[0m)         │               \u001b[38;5;34m0\u001b[0m │\n",
       "├──────────────────────────────────────┼─────────────────────────────┼─────────────────┤\n",
       "│ conv2d_93 (\u001b[38;5;33mConv2D\u001b[0m)                   │ (\u001b[38;5;45mNone\u001b[0m, \u001b[38;5;34m14\u001b[0m, \u001b[38;5;34m14\u001b[0m, \u001b[38;5;34m256\u001b[0m)         │         \u001b[38;5;34m295,168\u001b[0m │\n",
       "├──────────────────────────────────────┼─────────────────────────────┼─────────────────┤\n",
       "│ conv2d_94 (\u001b[38;5;33mConv2D\u001b[0m)                   │ (\u001b[38;5;45mNone\u001b[0m, \u001b[38;5;34m12\u001b[0m, \u001b[38;5;34m12\u001b[0m, \u001b[38;5;34m256\u001b[0m)         │         \u001b[38;5;34m590,080\u001b[0m │\n",
       "├──────────────────────────────────────┼─────────────────────────────┼─────────────────┤\n",
       "│ max_pooling2d_42 (\u001b[38;5;33mMaxPooling2D\u001b[0m)      │ (\u001b[38;5;45mNone\u001b[0m, \u001b[38;5;34m6\u001b[0m, \u001b[38;5;34m6\u001b[0m, \u001b[38;5;34m256\u001b[0m)           │               \u001b[38;5;34m0\u001b[0m │\n",
       "├──────────────────────────────────────┼─────────────────────────────┼─────────────────┤\n",
       "│ conv2d_95 (\u001b[38;5;33mConv2D\u001b[0m)                   │ (\u001b[38;5;45mNone\u001b[0m, \u001b[38;5;34m6\u001b[0m, \u001b[38;5;34m6\u001b[0m, \u001b[38;5;34m512\u001b[0m)           │       \u001b[38;5;34m1,180,160\u001b[0m │\n",
       "├──────────────────────────────────────┼─────────────────────────────┼─────────────────┤\n",
       "│ conv2d_96 (\u001b[38;5;33mConv2D\u001b[0m)                   │ (\u001b[38;5;45mNone\u001b[0m, \u001b[38;5;34m4\u001b[0m, \u001b[38;5;34m4\u001b[0m, \u001b[38;5;34m512\u001b[0m)           │       \u001b[38;5;34m2,359,808\u001b[0m │\n",
       "├──────────────────────────────────────┼─────────────────────────────┼─────────────────┤\n",
       "│ max_pooling2d_43 (\u001b[38;5;33mMaxPooling2D\u001b[0m)      │ (\u001b[38;5;45mNone\u001b[0m, \u001b[38;5;34m2\u001b[0m, \u001b[38;5;34m2\u001b[0m, \u001b[38;5;34m512\u001b[0m)           │               \u001b[38;5;34m0\u001b[0m │\n",
       "├──────────────────────────────────────┼─────────────────────────────┼─────────────────┤\n",
       "│ dropout_2 (\u001b[38;5;33mDropout\u001b[0m)                  │ (\u001b[38;5;45mNone\u001b[0m, \u001b[38;5;34m2\u001b[0m, \u001b[38;5;34m2\u001b[0m, \u001b[38;5;34m512\u001b[0m)           │               \u001b[38;5;34m0\u001b[0m │\n",
       "├──────────────────────────────────────┼─────────────────────────────┼─────────────────┤\n",
       "│ flatten_5 (\u001b[38;5;33mFlatten\u001b[0m)                  │ (\u001b[38;5;45mNone\u001b[0m, \u001b[38;5;34m2048\u001b[0m)                │               \u001b[38;5;34m0\u001b[0m │\n",
       "├──────────────────────────────────────┼─────────────────────────────┼─────────────────┤\n",
       "│ dense_10 (\u001b[38;5;33mDense\u001b[0m)                     │ (\u001b[38;5;45mNone\u001b[0m, \u001b[38;5;34m1500\u001b[0m)                │       \u001b[38;5;34m3,073,500\u001b[0m │\n",
       "├──────────────────────────────────────┼─────────────────────────────┼─────────────────┤\n",
       "│ dropout_3 (\u001b[38;5;33mDropout\u001b[0m)                  │ (\u001b[38;5;45mNone\u001b[0m, \u001b[38;5;34m1500\u001b[0m)                │               \u001b[38;5;34m0\u001b[0m │\n",
       "├──────────────────────────────────────┼─────────────────────────────┼─────────────────┤\n",
       "│ dense_11 (\u001b[38;5;33mDense\u001b[0m)                     │ (\u001b[38;5;45mNone\u001b[0m, \u001b[38;5;34m38\u001b[0m)                  │          \u001b[38;5;34m57,038\u001b[0m │\n",
       "└──────────────────────────────────────┴─────────────────────────────┴─────────────────┘\n"
      ]
     },
     "metadata": {},
     "output_type": "display_data"
    },
    {
     "data": {
      "text/html": [
       "<pre style=\"white-space:pre;overflow-x:auto;line-height:normal;font-family:Menlo,'DejaVu Sans Mono',consolas,'Courier New',monospace\"><span style=\"font-weight: bold\"> Total params: </span><span style=\"color: #00af00; text-decoration-color: #00af00\">7,842,762</span> (29.92 MB)\n",
       "</pre>\n"
      ],
      "text/plain": [
       "\u001b[1m Total params: \u001b[0m\u001b[38;5;34m7,842,762\u001b[0m (29.92 MB)\n"
      ]
     },
     "metadata": {},
     "output_type": "display_data"
    },
    {
     "data": {
      "text/html": [
       "<pre style=\"white-space:pre;overflow-x:auto;line-height:normal;font-family:Menlo,'DejaVu Sans Mono',consolas,'Courier New',monospace\"><span style=\"font-weight: bold\"> Trainable params: </span><span style=\"color: #00af00; text-decoration-color: #00af00\">7,842,762</span> (29.92 MB)\n",
       "</pre>\n"
      ],
      "text/plain": [
       "\u001b[1m Trainable params: \u001b[0m\u001b[38;5;34m7,842,762\u001b[0m (29.92 MB)\n"
      ]
     },
     "metadata": {},
     "output_type": "display_data"
    },
    {
     "data": {
      "text/html": [
       "<pre style=\"white-space:pre;overflow-x:auto;line-height:normal;font-family:Menlo,'DejaVu Sans Mono',consolas,'Courier New',monospace\"><span style=\"font-weight: bold\"> Non-trainable params: </span><span style=\"color: #00af00; text-decoration-color: #00af00\">0</span> (0.00 B)\n",
       "</pre>\n"
      ],
      "text/plain": [
       "\u001b[1m Non-trainable params: \u001b[0m\u001b[38;5;34m0\u001b[0m (0.00 B)\n"
      ]
     },
     "metadata": {},
     "output_type": "display_data"
    }
   ],
   "source": [
    "model.summary()"
   ]
  },
  {
   "cell_type": "markdown",
   "id": "4abf4444-6eff-4536-a198-8a477d48a508",
   "metadata": {},
   "source": [
    "## Model Training "
   ]
  },
  {
   "cell_type": "code",
   "execution_count": 167,
   "id": "c4e1dfd4-4544-4f95-8ab7-23803fd0f6fc",
   "metadata": {},
   "outputs": [
    {
     "name": "stdout",
     "output_type": "stream",
     "text": [
      "Epoch 1/3\n",
      "\u001b[1m  35/2197\u001b[0m \u001b[37m━━━━━━━━━━━━━━━━━━━━\u001b[0m \u001b[1m16:04:15\u001b[0m 27s/step - accuracy: 0.9600 - loss: 0.1161"
     ]
    },
    {
     "name": "stderr",
     "output_type": "stream",
     "text": [
      "\n",
      "KeyboardInterrupt\n",
      "\n"
     ]
    }
   ],
   "source": [
    "#training_history = model.fit(x=training_set,validation_data=validation_set,epochs=3) #30 mins time period "
   ]
  },
  {
   "cell_type": "markdown",
   "id": "3695c547-b288-4909-b9ff-b1bb36d5d7a9",
   "metadata": {},
   "source": [
    "## Model Evaluation "
   ]
  },
  {
   "cell_type": "code",
   "execution_count": null,
   "id": "22128f8a-d6fc-4d79-bd19-17c3ad776911",
   "metadata": {},
   "outputs": [],
   "source": [
    "#Training alone is not enough so we are using other parameters "
   ]
  },
  {
   "cell_type": "code",
   "execution_count": null,
   "id": "3712c28c-14d0-4021-979d-b6928dd21aa0",
   "metadata": {},
   "outputs": [],
   "source": [
    "#model evaluation on training set "
   ]
  },
  {
   "cell_type": "code",
   "execution_count": null,
   "id": "a9918669-e693-4e65-9c23-f043fa66ecc3",
   "metadata": {},
   "outputs": [],
   "source": [
    "#SAVING "
   ]
  },
  {
   "cell_type": "code",
   "execution_count": 168,
   "id": "b27be52c-8c20-4bb4-b091-1bcad268a2c6",
   "metadata": {},
   "outputs": [],
   "source": [
    "model.save('trained_plant_disease_model.keras')"
   ]
  },
  {
   "cell_type": "code",
   "execution_count": 169,
   "id": "9a8ff68e-6def-4164-bb4b-596a11c7873b",
   "metadata": {},
   "outputs": [],
   "source": [
    "#training_history.history"
   ]
  },
  {
   "cell_type": "code",
   "execution_count": 170,
   "id": "d731babc-4e52-4585-9666-1bf5b4c63880",
   "metadata": {},
   "outputs": [],
   "source": [
    "#Recording History in json\n",
    "#import json\n",
    "#with open('training_hist.json','w') as f:\n",
    "#  json.dump(training_history.history,f)"
   ]
  },
  {
   "cell_type": "code",
   "execution_count": 171,
   "id": "3c1ca1dd-9aec-461e-85ac-f57f1db11bac",
   "metadata": {},
   "outputs": [],
   "source": [
    "#print(training_history.history.keys())\n"
   ]
  },
  {
   "cell_type": "code",
   "execution_count": 172,
   "id": "7415fd84-ec95-454d-b6cb-6fc37fc5fb2f",
   "metadata": {},
   "outputs": [],
   "source": [
    "#epochs = [i for i in range(1,11)]\n",
    "#plt.plot(epochs,training_history.history['accuracy'],color='red',label='Training Accuracy')\n",
    "#plt.plot(epochs,training_history.history['val_accuracy'],color='blue',label='Validation Accuracy')\n",
    "#plt.xlabel('No. of Epochs')\n",
    "#plt.title('Visualization of Accuracy Result')\n",
    "#plt.legend()\n",
    "#plt.show()\n"
   ]
  },
  {
   "cell_type": "code",
   "execution_count": 173,
   "id": "7162d8d9-9095-42d7-af96-4fba03dade07",
   "metadata": {},
   "outputs": [],
   "source": [
    "class_name = validation_set.class_names\n"
   ]
  },
  {
   "cell_type": "code",
   "execution_count": 174,
   "id": "950720e0-0d5f-4df5-9de5-34c20998ea7a",
   "metadata": {},
   "outputs": [
    {
     "name": "stdout",
     "output_type": "stream",
     "text": [
      "Found 17572 files belonging to 38 classes.\n"
     ]
    }
   ],
   "source": [
    "test_set = tf.keras.utils.image_dataset_from_directory(\n",
    "    'valid',\n",
    "    labels=\"inferred\",\n",
    "    label_mode=\"categorical\",\n",
    "    class_names=None,\n",
    "    color_mode=\"rgb\",\n",
    "    batch_size=1,\n",
    "    image_size=(128, 128),\n",
    "    shuffle=False,\n",
    "    seed=None,\n",
    "    validation_split=None,\n",
    "    subset=None,\n",
    "    interpolation=\"bilinear\",\n",
    "    follow_links=False,\n",
    "    crop_to_aspect_ratio=False\n",
    ")"
   ]
  },
  {
   "cell_type": "code",
   "execution_count": 176,
   "id": "4afe3665-b867-4cc8-8603-ca80d5826185",
   "metadata": {},
   "outputs": [
    {
     "name": "stdout",
     "output_type": "stream",
     "text": [
      "\u001b[1m17572/17572\u001b[0m \u001b[32m━━━━━━━━━━━━━━━━━━━━\u001b[0m\u001b[37m\u001b[0m \u001b[1m1204s\u001b[0m 68ms/step\n"
     ]
    }
   ],
   "source": [
    "y_pred = model.predict(test_set)\n",
    "predicted_categories = tf.argmax(y_pred, axis=1) #for each file it is giving probability of each image "
   ]
  },
  {
   "cell_type": "code",
   "execution_count": 177,
   "id": "0b11a9d6-8422-4b87-a71d-7094307396ec",
   "metadata": {},
   "outputs": [],
   "source": [
    "true_categories = tf.concat([y for x, y in test_set], axis=0)  \n",
    "Y_true = tf.argmax(true_categories, axis=1)  #maximum probability out of all 38 categories "
   ]
  },
  {
   "cell_type": "code",
   "execution_count": 178,
   "id": "f3cc7f32-e237-4b1b-8343-8abb4741c1f3",
   "metadata": {},
   "outputs": [
    {
     "data": {
      "text/plain": [
       "<tf.Tensor: shape=(17572,), dtype=int64, numpy=array([ 0,  0,  0, ..., 37, 37, 37], dtype=int64)>"
      ]
     },
     "execution_count": 178,
     "metadata": {},
     "output_type": "execute_result"
    }
   ],
   "source": [
    "\n",
    "Y_true"
   ]
  },
  {
   "cell_type": "code",
   "execution_count": 179,
   "id": "cb6aaf22-2ada-4ad4-a9c1-fadc5cd168f2",
   "metadata": {},
   "outputs": [
    {
     "data": {
      "text/plain": [
       "<tf.Tensor: shape=(17572,), dtype=int64, numpy=array([ 0,  0,  0, ..., 37, 37, 37], dtype=int64)>"
      ]
     },
     "execution_count": 179,
     "metadata": {},
     "output_type": "execute_result"
    }
   ],
   "source": [
    "predicted_categories\n"
   ]
  },
  {
   "cell_type": "code",
   "execution_count": 190,
   "id": "9f88d198-4ded-4303-a30c-a726c2351750",
   "metadata": {},
   "outputs": [
    {
     "data": {
      "text/plain": [
       "['Apple___Apple_scab',\n",
       " 'Apple___Black_rot',\n",
       " 'Apple___Cedar_apple_rust',\n",
       " 'Apple___healthy',\n",
       " 'Blueberry___healthy',\n",
       " 'Cherry_(including_sour)___Powdery_mildew',\n",
       " 'Cherry_(including_sour)___healthy',\n",
       " 'Corn_(maize)___Cercospora_leaf_spot Gray_leaf_spot',\n",
       " 'Corn_(maize)___Common_rust_',\n",
       " 'Corn_(maize)___Northern_Leaf_Blight',\n",
       " 'Corn_(maize)___healthy',\n",
       " 'Grape___Black_rot',\n",
       " 'Grape___Esca_(Black_Measles)',\n",
       " 'Grape___Leaf_blight_(Isariopsis_Leaf_Spot)',\n",
       " 'Grape___healthy',\n",
       " 'Orange___Haunglongbing_(Citrus_greening)',\n",
       " 'Peach___Bacterial_spot',\n",
       " 'Peach___healthy',\n",
       " 'Pepper,_bell___Bacterial_spot',\n",
       " 'Pepper,_bell___healthy',\n",
       " 'Potato___Early_blight',\n",
       " 'Potato___Late_blight',\n",
       " 'Potato___healthy',\n",
       " 'Raspberry___healthy',\n",
       " 'Soybean___healthy',\n",
       " 'Squash___Powdery_mildew',\n",
       " 'Strawberry___Leaf_scorch',\n",
       " 'Strawberry___healthy',\n",
       " 'Tomato___Bacterial_spot',\n",
       " 'Tomato___Early_blight',\n",
       " 'Tomato___Late_blight',\n",
       " 'Tomato___Leaf_Mold',\n",
       " 'Tomato___Septoria_leaf_spot',\n",
       " 'Tomato___Spider_mites Two-spotted_spider_mite',\n",
       " 'Tomato___Target_Spot',\n",
       " 'Tomato___Tomato_Yellow_Leaf_Curl_Virus',\n",
       " 'Tomato___Tomato_mosaic_virus',\n",
       " 'Tomato___healthy']"
      ]
     },
     "execution_count": 190,
     "metadata": {},
     "output_type": "execute_result"
    }
   ],
   "source": [
    "class_name = validation_set.class_names\n",
    "class_name "
   ]
  },
  {
   "cell_type": "code",
   "execution_count": 184,
   "id": "da7197b9-e4b6-4b01-b580-8648b6477ede",
   "metadata": {},
   "outputs": [],
   "source": [
    "from sklearn.metrics import confusion_matrix,classification_report  #for precision recall\n",
    "cm = confusion_matrix(Y_true,predicted_categories)"
   ]
  },
  {
   "cell_type": "code",
   "execution_count": 185,
   "id": "1bfb6c42-d1fb-4c8e-89d5-6f5d0e028846",
   "metadata": {},
   "outputs": [
    {
     "name": "stdout",
     "output_type": "stream",
     "text": [
      "                                                    precision    recall  f1-score   support\n",
      "\n",
      "                                Apple___Apple_scab       0.92      0.95      0.93       504\n",
      "                                 Apple___Black_rot       0.91      0.99      0.95       497\n",
      "                          Apple___Cedar_apple_rust       0.98      0.94      0.96       440\n",
      "                                   Apple___healthy       0.86      0.96      0.91       502\n",
      "                               Blueberry___healthy       0.94      0.97      0.96       454\n",
      "          Cherry_(including_sour)___Powdery_mildew       0.99      0.96      0.97       421\n",
      "                 Cherry_(including_sour)___healthy       0.99      0.93      0.96       456\n",
      "Corn_(maize)___Cercospora_leaf_spot Gray_leaf_spot       0.94      0.83      0.88       410\n",
      "                       Corn_(maize)___Common_rust_       0.94      1.00      0.97       477\n",
      "               Corn_(maize)___Northern_Leaf_Blight       0.91      0.96      0.94       477\n",
      "                            Corn_(maize)___healthy       0.99      0.99      0.99       465\n",
      "                                 Grape___Black_rot       0.92      0.98      0.95       472\n",
      "                      Grape___Esca_(Black_Measles)       0.98      0.98      0.98       480\n",
      "        Grape___Leaf_blight_(Isariopsis_Leaf_Spot)       0.99      0.95      0.97       430\n",
      "                                   Grape___healthy       1.00      0.97      0.99       423\n",
      "          Orange___Haunglongbing_(Citrus_greening)       0.99      0.95      0.97       503\n",
      "                            Peach___Bacterial_spot       0.94      0.95      0.94       459\n",
      "                                   Peach___healthy       0.94      0.99      0.96       432\n",
      "                     Pepper,_bell___Bacterial_spot       0.88      0.95      0.91       478\n",
      "                            Pepper,_bell___healthy       0.93      0.89      0.91       497\n",
      "                             Potato___Early_blight       0.96      0.99      0.98       485\n",
      "                              Potato___Late_blight       0.91      0.96      0.94       485\n",
      "                                  Potato___healthy       0.96      0.95      0.95       456\n",
      "                               Raspberry___healthy       0.99      0.94      0.97       445\n",
      "                                 Soybean___healthy       0.98      0.90      0.94       505\n",
      "                           Squash___Powdery_mildew       0.99      0.98      0.98       434\n",
      "                          Strawberry___Leaf_scorch       0.98      0.98      0.98       444\n",
      "                              Strawberry___healthy       0.98      0.99      0.98       456\n",
      "                           Tomato___Bacterial_spot       0.94      0.94      0.94       425\n",
      "                             Tomato___Early_blight       0.89      0.87      0.88       480\n",
      "                              Tomato___Late_blight       0.93      0.91      0.92       463\n",
      "                                Tomato___Leaf_Mold       0.98      0.84      0.90       470\n",
      "                       Tomato___Septoria_leaf_spot       0.83      0.87      0.85       436\n",
      "     Tomato___Spider_mites Two-spotted_spider_mite       0.95      0.89      0.92       435\n",
      "                              Tomato___Target_Spot       0.87      0.92      0.89       457\n",
      "            Tomato___Tomato_Yellow_Leaf_Curl_Virus       1.00      0.95      0.97       490\n",
      "                      Tomato___Tomato_mosaic_virus       0.96      0.99      0.98       448\n",
      "                                  Tomato___healthy       0.99      0.97      0.98       481\n",
      "\n",
      "                                          accuracy                           0.95     17572\n",
      "                                         macro avg       0.95      0.95      0.95     17572\n",
      "                                      weighted avg       0.95      0.95      0.95     17572\n",
      "\n"
     ]
    }
   ],
   "source": [
    "print(classification_report(Y_true,predicted_categories,target_names=class_name)) \n"
   ]
  },
  {
   "cell_type": "code",
   "execution_count": 186,
   "id": "8e91f713-0c8c-4f57-ba21-aeeee11cdec6",
   "metadata": {},
   "outputs": [
    {
     "data": {
      "image/png": "[encoded data removed]",
      "text/plain": [
       "<Figure size 4000x4000 with 2 Axes>"
      ]
     },
     "metadata": {},
     "output_type": "display_data"
    }
   ],
   "source": [
    "#confusion matrix\n",
    "plt.figure(figsize=(40, 40))\n",
    "sns.heatmap(cm,annot=True,annot_kws={\"size\": 10})\n",
    "\n",
    "plt.xlabel('Predicted Class',fontsize = 20)\n",
    "plt.ylabel('Actual Class',fontsize = 20)\n",
    "plt.title('Plant Disease Prediction Confusion Matrix',fontsize = 25)\n",
    "plt.show()"
   ]
  },
  {
   "cell_type": "code",
   "execution_count": 189,
   "id": "8fbdba97-9ec8-4de1-bd51-f7a4819d9fb4",
   "metadata": {},
   "outputs": [],
   "source": []
  },
  {
   "cell_type": "code",
   "execution_count": null,
   "id": "e0258c02-09af-4a93-a102-e3525150c73c",
   "metadata": {},
   "outputs": [],
   "source": []
  }
 ],
 "metadata": {
  "kernelspec": {
   "display_name": "Python 3 (ipykernel)",
   "language": "python",
   "name": "python3"
  },
  "language_info": {
   "codemirror_mode": {
    "name": "ipython",
    "version": 3
   },
   "file_extension": ".py",
   "mimetype": "text/x-python",
   "name": "python",
   "nbconvert_exporter": "python",
   "pygments_lexer": "ipython3",
   "version": "3.11.7"
  }
 },
 "nbformat": 4,
 "nbformat_minor": 5
}
